{
 "cells": [
  {
   "cell_type": "code",
   "execution_count": 25,
   "metadata": {
    "collapsed": false
   },
   "outputs": [
    {
     "data": {
      "text/html": [
       "<div>\n",
       "<table border=\"1\" class=\"dataframe\">\n",
       "  <thead>\n",
       "    <tr style=\"text-align: right;\">\n",
       "      <th></th>\n",
       "      <th>cellBarcodes</th>\n",
       "      <th>humanReads</th>\n",
       "      <th>mouseReads</th>\n",
       "    </tr>\n",
       "  </thead>\n",
       "  <tbody>\n",
       "    <tr>\n",
       "      <th>238241</th>\n",
       "      <td>TTTTTTTTTCAG</td>\n",
       "      <td>1</td>\n",
       "      <td>1</td>\n",
       "    </tr>\n",
       "    <tr>\n",
       "      <th>238242</th>\n",
       "      <td>TTTTTTTTTCTC</td>\n",
       "      <td>0</td>\n",
       "      <td>1</td>\n",
       "    </tr>\n",
       "    <tr>\n",
       "      <th>238243</th>\n",
       "      <td>TTTTTTTTTCTT</td>\n",
       "      <td>0</td>\n",
       "      <td>4</td>\n",
       "    </tr>\n",
       "    <tr>\n",
       "      <th>238244</th>\n",
       "      <td>TTTTTTTTTTTA</td>\n",
       "      <td>2</td>\n",
       "      <td>0</td>\n",
       "    </tr>\n",
       "    <tr>\n",
       "      <th>238245</th>\n",
       "      <td>TTTTTTTTTTTT</td>\n",
       "      <td>110</td>\n",
       "      <td>45</td>\n",
       "    </tr>\n",
       "  </tbody>\n",
       "</table>\n",
       "</div>"
      ],
      "text/plain": [
       "        cellBarcodes  humanReads  mouseReads\n",
       "238241  TTTTTTTTTCAG           1           1\n",
       "238242  TTTTTTTTTCTC           0           1\n",
       "238243  TTTTTTTTTCTT           0           4\n",
       "238244  TTTTTTTTTTTA           2           0\n",
       "238245  TTTTTTTTTTTT         110          45"
      ]
     },
     "execution_count": 25,
     "metadata": {},
     "output_type": "execute_result"
    }
   ],
   "source": [
    "import pandas as pd\n",
    "from bokeh.plotting import figure, output_notebook, show\n",
    "\n",
    "\n",
    "df = pd.read_csv('/Users/minzhang/Documents/data/P56_dropseq/results/readCountHumanMouseL2.txt'\n",
    "                , sep = \"\\t\"\n",
    "                , names=['cellBarcodes', 'humanReads', 'mouseReads'])\n",
    "\n",
    "df.tail()"
   ]
  },
  {
   "cell_type": "code",
   "execution_count": 28,
   "metadata": {
    "collapsed": true
   },
   "outputs": [],
   "source": [
    "def base_plot(tools='pan,wheel_zoom,reset'):\n",
    "    p = figure(\n",
    "        tools=tools,\n",
    "        plot_width=900,\n",
    "        plot_height=600,\n",
    "        responsive=True,\n",
    "        x_range=x_range,\n",
    "        y_range=y_range,\n",
    "        outline_line_color=None,\n",
    "        min_border=0,\n",
    "    )\n",
    "    p.axis.visible = False\n",
    "    p.xgrid.grid_line_color = None\n",
    "    p.ygrid.grid_line_color = None\n",
    "    return p\n",
    "    \n",
    "options = dict(line_color=None, fill_color='blue', size=5)\n",
    "x_range = (0,5000)\n",
    "y_range = (0,5000)"
   ]
  },
  {
   "cell_type": "code",
   "execution_count": 31,
   "metadata": {
    "collapsed": false
   },
   "outputs": [],
   "source": [
    "p = base_plot()\n",
    "p.circle(x=df.humanReads, y=df.mouseReads, **options)\n",
    "show(p)"
   ]
  },
  {
   "cell_type": "code",
   "execution_count": null,
   "metadata": {
    "collapsed": true
   },
   "outputs": [],
   "source": []
  }
 ],
 "metadata": {
  "kernelspec": {
   "display_name": "Python 2",
   "language": "python",
   "name": "python2"
  },
  "language_info": {
   "codemirror_mode": {
    "name": "ipython",
    "version": 2
   },
   "file_extension": ".py",
   "mimetype": "text/x-python",
   "name": "python",
   "nbconvert_exporter": "python",
   "pygments_lexer": "ipython2",
   "version": "2.7.10"
  }
 },
 "nbformat": 4,
 "nbformat_minor": 0
}
